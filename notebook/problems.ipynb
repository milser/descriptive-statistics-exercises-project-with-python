{
    "cells": [
        {
            "cell_type": "markdown",
            "id": "ac622319",
            "metadata": {},
            "source": [
                "# Descriptive statistics problems"
            ]
        },
        {
            "cell_type": "markdown",
            "id": "aa8993e4",
            "metadata": {},
            "source": [
                "### Exercise 1"
            ]
        },
        {
            "cell_type": "markdown",
            "id": "5e0ab0d5",
            "metadata": {},
            "source": [
                "We will use Numpy to obtain information to describe statistically.\n",
                "\n",
                "- Generate an array of 100 elements following a normal distribution.\n",
                "- Generate an array of 100 elements following a chi-square distribution with 3 degrees of freedom.\n",
                "- Calculate the main metrics and statistical measures that best describe the two vectors."
            ]
        },
        {
            "cell_type": "code",
            "execution_count": 6,
            "id": "34720ab6",
            "metadata": {},
            "outputs": [
                {
                    "name": "stdout",
                    "output_type": "stream",
                    "text": [
                        "Normal array: [ 0.49671415 -0.1382643   0.64768854  1.52302986 -0.23415337 -0.23413696\n",
                        "  1.57921282  0.76743473 -0.46947439  0.54256004 -0.46341769 -0.46572975\n",
                        "  0.24196227 -1.91328024 -1.72491783 -0.56228753 -1.01283112  0.31424733\n",
                        " -0.90802408 -1.4123037   1.46564877 -0.2257763   0.0675282  -1.42474819\n",
                        " -0.54438272  0.11092259 -1.15099358  0.37569802 -0.60063869 -0.29169375\n",
                        " -0.60170661  1.85227818 -0.01349722 -1.05771093  0.82254491 -1.22084365\n",
                        "  0.2088636  -1.95967012 -1.32818605  0.19686124  0.73846658  0.17136828\n",
                        " -0.11564828 -0.3011037  -1.47852199 -0.71984421 -0.46063877  1.05712223\n",
                        "  0.34361829 -1.76304016  0.32408397 -0.38508228 -0.676922    0.61167629\n",
                        "  1.03099952  0.93128012 -0.83921752 -0.30921238  0.33126343  0.97554513\n",
                        " -0.47917424 -0.18565898 -1.10633497 -1.19620662  0.81252582  1.35624003\n",
                        " -0.07201012  1.0035329   0.36163603 -0.64511975  0.36139561  1.53803657\n",
                        " -0.03582604  1.56464366 -2.6197451   0.8219025   0.08704707 -0.29900735\n",
                        "  0.09176078 -1.98756891 -0.21967189  0.35711257  1.47789404 -0.51827022\n",
                        " -0.8084936  -0.50175704  0.91540212  0.32875111 -0.5297602   0.51326743\n",
                        "  0.09707755  0.96864499 -0.70205309 -0.32766215 -0.39210815 -1.46351495\n",
                        "  0.29612028  0.26105527  0.00511346 -0.23458713]\n",
                        "Chi-square array: [ 0.4168513   1.53749288  2.0019707   3.31954478  2.93509884  2.17617828\n",
                        "  0.15830407  2.27652419  2.46587889 12.72456265  1.94196651  3.04725102\n",
                        "  5.77516859  4.36378602  6.86491387  0.42618426  0.78098785  1.3113313\n",
                        "  0.33084683  2.48460231  0.85740894  7.53845363  1.01734997  1.7044591\n",
                        "  4.56886089  0.55649438  0.29858042  2.75534614  2.9409741   4.4625349\n",
                        "  3.65222252  3.03548985  1.15103525  2.87187902  3.02542952  1.10535719\n",
                        "  9.13003056  3.51390358  0.79761542  4.48007115  5.09450961  3.3434575\n",
                        "  1.84236463  1.05445618  2.17070629  3.15061854  2.36153348  7.09243827\n",
                        "  3.96269904  0.92828493  0.70025868  3.53848141  1.8831237   4.24057767\n",
                        "  3.51221427  2.17951444  0.94044813  0.35233451  2.82705909  0.54422803\n",
                        "  0.89743356  2.68142092  2.4613509   0.63275656  5.54211583  5.43039306\n",
                        "  3.63214678  3.62852305  3.63218282  5.06050325  4.04232775  1.03035801\n",
                        "  1.85822454 11.7557897   0.17754328  1.45511551  5.56483363  1.10410752\n",
                        "  4.1308596   2.43317078  1.18979801  2.75974204  1.00588199  2.09414701\n",
                        "  3.60307013  4.7477682   1.450369    1.18741582  0.531925    4.9308192\n",
                        " 10.57550712  5.34984734  6.2796709   1.11415225  3.42940531  4.43865013\n",
                        "  0.74626305  0.13247338  0.50086102  2.0667793 ]\n"
                    ]
                }
            ],
            "source": [
                "import numpy as np\n",
                "\n",
                "np.random.seed(42)\n",
                "size = 100\n",
                "normal_dist = np.random.normal(size = size)\n",
                "chi_sqr_dist = np.random.chisquare(3, size)\n",
                "\n",
                "print(f\"Normal array: {normal_dist}\")\n",
                "print(f\"Chi-square array: {chi_sqr_dist}\")"
            ]
        },
        {
            "cell_type": "code",
            "execution_count": 17,
            "id": "3b0ffae6",
            "metadata": {},
            "outputs": [
                {
                    "name": "stdout",
                    "output_type": "stream",
                    "text": [
                        "Normal Distribution:\n",
                        "Mean: 0.03850953272380441\n",
                        "Median: 0.0920941762204585\n",
                        "Standard Deviation: 0.9980201341221708\n",
                        "Minimum: -2.249095728055939\n",
                        "Maximum: 2.328619008421566\n",
                        "----------------------------------------\n",
                        "Chi-Square Distribution:\n",
                        "Mean: 2.6976566963080373\n",
                        "Median: 2.425288018488157\n",
                        "Standard Deviation: 2.2051680762309953\n",
                        "Minimum: 0.025030882326652047\n",
                        "Maximum: 12.735512178665486\n"
                    ]
                }
            ],
            "source": [
                "import numpy as np\n",
                "import statistics as stats\n",
                "\n",
                "# Generate an array of 100 elements following a normal distribution\n",
                "normal_distribution = np.random.normal(loc=0, scale=1, size=100)\n",
                "\n",
                "# Generate an array of 100 elements following a chi-square distribution with 3 degrees of freedom\n",
                "chi_square_distribution = np.random.chisquare(df=3, size=100)\n",
                "\n",
                "# Calculate main metrics and statistical measures for the normal distribution\n",
                "normal_mean = stats.mean(normal_distribution)\n",
                "normal_median = stats.median(normal_distribution)\n",
                "normal_std = stats.stdev(normal_distribution)\n",
                "normal_min = min(normal_distribution)\n",
                "normal_max = max(normal_distribution)\n",
                "\n",
                "# Calculate main metrics and statistical measures for the chi-square distribution\n",
                "chi_square_mean = stats.mean(chi_square_distribution)\n",
                "chi_square_median = stats.median(chi_square_distribution)\n",
                "chi_square_std = stats.stdev(chi_square_distribution)\n",
                "chi_square_min = min(chi_square_distribution)\n",
                "chi_square_max = max(chi_square_distribution)\n",
                "\n",
                "# Print the results\n",
                "print(\"Normal Distribution:\")\n",
                "print(\"Mean:\", normal_mean)\n",
                "print(\"Median:\", normal_median)\n",
                "print(\"Standard Deviation:\", normal_std)\n",
                "print(\"Minimum:\", normal_min)\n",
                "print(\"Maximum:\", normal_max)\n",
                "print(\"----------------------------------------\")\n",
                "print(\"Chi-Square Distribution:\")\n",
                "print(\"Mean:\", chi_square_mean)\n",
                "print(\"Median:\", chi_square_median)\n",
                "print(\"Standard Deviation:\", chi_square_std)\n",
                "print(\"Minimum:\", chi_square_min)\n",
                "print(\"Maximum:\", chi_square_max)\n"
            ]
        },
        {
            "cell_type": "markdown",
            "id": "46c70c3d",
            "metadata": {},
            "source": [
                "### Exercise 2\n",
                "\n",
                "Write a Python program to calculate the standard deviation of the following data:\n",
                "\n",
                "```py\n",
                "data = [4, 2, 5, 8, 6]\n",
                "```"
            ]
        },
        {
            "cell_type": "code",
            "execution_count": 13,
            "id": "d590308e",
            "metadata": {},
            "outputs": [
                {
                    "name": "stdout",
                    "output_type": "stream",
                    "text": [
                        "Mean: 5.0\n",
                        "Standard deviation: 2.23606797749979\n"
                    ]
                }
            ],
            "source": [
                "\n",
                "import math\n",
                "\n",
                "data = [4, 2, 5, 8, 6]\n",
                "\n",
                "# Step 1: Calculate the mean\n",
                "def mean_fun(data):\n",
                "    result = 0.0\n",
                "    for value in data:\n",
                "        result += float(value)\n",
                "    return result/len(data)\n",
                "\n",
                "mean = mean_fun(data)\n",
                "\n",
                "def standard_deviation_fun(data):\n",
                "    mean = mean_fun(data)\n",
                "    squared_diff = 0.0\n",
                "    for value in data:\n",
                "        squared_diff += (float(value) - mean) ** 2\n",
                "    sd = math.sqrt(squared_diff / float(len(data) - 1))\n",
                "    return sd\n",
                "\n",
                "standard_deviation = standard_deviation_fun(data)\n",
                "\n",
                "\n",
                "print(\"Mean:\", mean)\n",
                "print(\"Standard deviation:\", standard_deviation)\n"
            ]
        }
    ],
    "metadata": {
        "interpreter": {
            "hash": "9248718ffe6ce6938b217e69dbcc175ea21f4c6b28a317e96c05334edae734bb"
        },
        "kernelspec": {
            "display_name": "Python 3.9.12 ('ML-BOOTCAMP')",
            "language": "python",
            "name": "python3"
        },
        "language_info": {
            "codemirror_mode": {
                "name": "ipython",
                "version": 3
            },
            "file_extension": ".py",
            "mimetype": "text/x-python",
            "name": "python",
            "nbconvert_exporter": "python",
            "pygments_lexer": "ipython3",
            "version": "3.12.2"
        }
    },
    "nbformat": 4,
    "nbformat_minor": 5
}
